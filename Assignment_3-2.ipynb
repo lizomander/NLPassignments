{
  "cells": [
    {
      "cell_type": "markdown",
      "id": "82e7877d",
      "metadata": {
        "id": "82e7877d"
      },
      "source": [
        "# Assignmnet 3 (100 + 5 points)"
      ]
    },
    {
      "cell_type": "markdown",
      "id": "297b6d20",
      "metadata": {
        "id": "297b6d20"
      },
      "source": [
        "**Name:** Zeynep Melisa Akyol<br>\n",
        "**Email:** zea5820@thi.de<br>\n",
        "**Group:** A <br>\n",
        "**Hours spend *(optional)* :** <br>"
      ]
    },
    {
      "cell_type": "markdown",
      "id": "09f79f88",
      "metadata": {
        "id": "09f79f88"
      },
      "source": [
        "### Question 1: Transformer model *(100 points)*"
      ]
    },
    {
      "cell_type": "markdown",
      "id": "23bd0c1a",
      "metadata": {
        "id": "23bd0c1a"
      },
      "source": [
        "As a Machine Learning engineer at a tech company, you were given a task to develop a machine translation system that translates **English (source) to German (Target)**. You have the freedom to select any dataset for training the model. Use a small subset of data as a validation dataset and report the BLEU score on the validation set.\n",
        "\n",
        "Also, provide a short description of your transformer model architecture, hyperparameters, and training (also provide the train-validation loss curve). Write your findings and analysis in a report in pdf format.\n",
        "\n",
        "Suggested structure for the report (but not limited to):\n",
        "\n",
        "1. Introduction\n",
        "2.   Problem Definition\n",
        "3.   Methodology\n",
        "4. Results and Analysis\n",
        "5. Conclusion\n"
      ]
    },
    {
      "cell_type": "markdown",
      "id": "18a6e95c",
      "metadata": {
        "id": "18a6e95c"
      },
      "source": [
        "<h3> Submission </h3>\n",
        "\n",
        "Submit both main code file and the report (pdf) in a zip file : firstname_lastname.zip."
      ]
    },
    {
      "cell_type": "markdown",
      "id": "97a4d2da",
      "metadata": {
        "id": "97a4d2da"
      },
      "source": [
        "**Dataset**\n",
        "\n",
        "Here are some of the parallel datasets (see Datasets and Resources file):\n",
        "* Europarl Parallel corpus - https://www.statmt.org/europarl/v7/de-en.tgz\n",
        "* News Commentary - https://www.statmt.org/wmt14/training-parallel-nc-v9.tgz (use DE-EN parallel data)\n",
        "* Common Crawl corpus - https://www.statmt.org/wmt13/training-parallel-commoncrawl.tgz (use DE-EN parallel data)\n",
        "\n",
        "You can also use other datasets of your choice. In this case please add the dataset you used to the submission zip file.\n",
        "\n",
        "In the above datasets, **'.en'** file has the text in English, and **'.de'** file contains their corresponding German translations.\n",
        "\n"
      ]
    },
    {
      "cell_type": "markdown",
      "id": "4f05905b",
      "metadata": {
        "id": "4f05905b"
      },
      "source": [
        "## Notes:\n",
        "1. You can also consider using a small subset of the dataset if the training dataset is large\n",
        "2. Sometimes you can also get out of memory errors while training, so choose the hyperparameters carefully.\n",
        "3. Your training will be much faster if you use a GPU (Edit -> Notebook settings). If you are using a CPU, it may take several hours or even days. (you can also use Google Colab GPUs for training. link: https://colab.research.google.com/)\n",
        "4. You are allowed to use any library from your choice.\n",
        "\n",
        "\n"
      ]
    },
    {
      "cell_type": "markdown",
      "source": [
        "## Imports"
      ],
      "metadata": {
        "id": "lcqEJaZd8bos"
      },
      "id": "lcqEJaZd8bos"
    },
    {
      "cell_type": "code",
      "source": [
        "!pip install sacremoses sacrebleu transformers --quiet\n",
        "\n",
        "import matplotlib.pyplot as plt\n",
        "import pandas as pd\n",
        "import torch\n",
        "from google.colab import drive\n",
        "from sacrebleu import corpus_bleu\n",
        "from sklearn.model_selection import train_test_split\n",
        "from torch.utils.data import Dataset, DataLoader\n",
        "from transformers import AdamW, AutoModelForSeq2SeqLM, AutoTokenizer\n",
        "\n",
        "drive.mount('/content/drive')"
      ],
      "metadata": {
        "colab": {
          "base_uri": "https://localhost:8080/"
        },
        "id": "nIrcv_ML8e5o",
        "outputId": "573725c4-d5cd-46f2-da49-9e250afd5afc"
      },
      "id": "nIrcv_ML8e5o",
      "execution_count": null,
      "outputs": [
        {
          "output_type": "stream",
          "name": "stdout",
          "text": [
            "Drive already mounted at /content/drive; to attempt to forcibly remount, call drive.mount(\"/content/drive\", force_remount=True).\n"
          ]
        }
      ]
    },
    {
      "cell_type": "code",
      "execution_count": null,
      "id": "hMvOFVnnTBni",
      "metadata": {
        "colab": {
          "base_uri": "https://localhost:8080/"
        },
        "id": "hMvOFVnnTBni",
        "outputId": "03803262-e92c-4a61-e306-0cb027691fb9"
      },
      "outputs": [
        {
          "output_type": "stream",
          "name": "stdout",
          "text": [
            "Number of English sentences: 201995\n",
            "Number of German sentences: 201854\n",
            "                                             English  \\\n",
            "0                                      $10,000 Gold?   \n",
            "1  SAN FRANCISCO – It has never been easy to have...   \n",
            "2  Lately, with gold prices up more than 300% ove...   \n",
            "3  Just last December, fellow economists Martin F...   \n",
            "4                              Wouldn’t you know it?   \n",
            "\n",
            "                                              German  \n",
            "0                     Steigt Gold auf 10.000 Dollar?  \n",
            "1  SAN FRANCISCO – Es war noch nie leicht, ein ra...  \n",
            "2  In letzter Zeit allerdings ist dies schwierige...  \n",
            "3  Erst letzten Dezember verfassten meine Kollege...  \n",
            "4                  Und es kam, wie es kommen musste.  \n"
          ]
        }
      ],
      "source": [
        "# Step 1: Load English and German text files\n",
        "with open(\"/content/drive/MyDrive/Assignment_3_NLP/training/news-commentary-v9.de-en.en\", \"r\", encoding=\"utf-8\") as f_en:\n",
        "    english_sentences = f_en.readlines()\n",
        "\n",
        "with open(\"/content/drive/MyDrive/Assignment_3_NLP/training/news-commentary-v9.de-en.de\", \"r\", encoding=\"utf-8\") as f_de:\n",
        "    german_sentences = f_de.readlines()\n",
        "\n",
        "# Step 2: Check if the number of sentences match\n",
        "print(f\"Number of English sentences: {len(english_sentences)}\")\n",
        "print(f\"Number of German sentences: {len(german_sentences)}\")\n",
        "\n",
        "# Step 3: Fix the mismatch\n",
        "aligned_sentences = [\n",
        "    (en.strip(), de.strip()) for en, de in zip(english_sentences, german_sentences)\n",
        "    if en.strip() and de.strip()\n",
        "]\n",
        "\n",
        "# Step 4: Create a DataFrame from the cleaned data\n",
        "data = pd.DataFrame(aligned_sentences, columns=[\"English\", \"German\"])\n",
        "\n",
        "# Step 5: Display some samples and save the cleaned dataset\n",
        "print(data.head())\n",
        "data.to_csv(\"cleaned_translation_dataset.csv\", index=False)"
      ]
    },
    {
      "cell_type": "code",
      "execution_count": null,
      "id": "6cwaB09JTG03",
      "metadata": {
        "colab": {
          "base_uri": "https://localhost:8080/"
        },
        "id": "6cwaB09JTG03",
        "outputId": "d17cbcef-8e47-4736-c1bc-d919c0711b45"
      },
      "outputs": [
        {
          "output_type": "stream",
          "name": "stdout",
          "text": [
            "Train size: 181161, Validation size: 10064, Test size: 10065\n"
          ]
        }
      ],
      "source": [
        "# Split dataset\n",
        "train_data, test_data = train_test_split(data, test_size=0.1, random_state=42)\n",
        "val_data, test_data = train_test_split(test_data, test_size=0.5, random_state=42)\n",
        "\n",
        "print(f\"Train size: {len(train_data)}, Validation size: {len(val_data)}, Test size: {len(test_data)}\")"
      ]
    },
    {
      "cell_type": "code",
      "execution_count": null,
      "id": "mXe7KeGtTO0c",
      "metadata": {
        "id": "mXe7KeGtTO0c"
      },
      "outputs": [],
      "source": [
        "def evaluate_bleu(model, tokenizer, dataset, device, max_len=128):\n",
        "    source_texts = []\n",
        "    predictions = []\n",
        "    references = []\n",
        "\n",
        "    model.eval()\n",
        "    with torch.no_grad():\n",
        "        for i in range(len(dataset)):\n",
        "            sample = dataset[i]\n",
        "\n",
        "            # Extract and tokenize the source text\n",
        "            source_text = sample[\"input_ids\"].unsqueeze(0).to(device)\n",
        "            source_mask = sample[\"attention_mask\"].unsqueeze(0).to(device)\n",
        "\n",
        "            # Generate translation\n",
        "            output = model.generate(input_ids=source_text, attention_mask=source_mask, max_length=max_len)\n",
        "            prediction = tokenizer.decode(output[0], skip_special_tokens=True)\n",
        "\n",
        "            # Append to results\n",
        "            source_texts.append(tokenizer.decode(source_text[0], skip_special_tokens=True))\n",
        "            predictions.append(prediction)\n",
        "            references.append([dataset.data.iloc[i][\"German\"]])  # Wrap the reference in a list for BLEU\n",
        "\n",
        "    # Calculate BLEU score\n",
        "    bleu = corpus_bleu(predictions, references)\n",
        "    print(f\"BLEU Score: {bleu.score:.2f}\")\n",
        "\n",
        "    return source_texts, predictions, references"
      ]
    },
    {
      "cell_type": "code",
      "execution_count": null,
      "id": "8KBascG1TSsf",
      "metadata": {
        "id": "8KBascG1TSsf"
      },
      "outputs": [],
      "source": [
        "# Load the model for English-to-German translation\n",
        "model = AutoModelForSeq2SeqLM.from_pretrained(\"Helsinki-NLP/opus-mt-en-de\")"
      ]
    },
    {
      "cell_type": "code",
      "execution_count": null,
      "id": "Aflhe3fsTVNZ",
      "metadata": {
        "id": "Aflhe3fsTVNZ"
      },
      "outputs": [],
      "source": [
        "class TranslationDataset(Dataset):\n",
        "    def __init__(self, data, tokenizer, max_len=128):\n",
        "        self.data = data\n",
        "        self.tokenizer = tokenizer\n",
        "        self.max_len = max_len\n",
        "\n",
        "    def __len__(self):\n",
        "        return len(self.data)\n",
        "\n",
        "    def __getitem__(self, idx):\n",
        "        source = self.data.iloc[idx][\"English\"]\n",
        "        target = self.data.iloc[idx][\"German\"]\n",
        "\n",
        "        # Tokenize English and German sentences\n",
        "        source_tokens = self.tokenizer(\n",
        "            source,\n",
        "            max_length=self.max_len,\n",
        "            truncation=True,\n",
        "            padding=\"max_length\",\n",
        "            return_tensors=\"pt\"\n",
        "        )\n",
        "        target_tokens = self.tokenizer(\n",
        "            target,\n",
        "            max_length=self.max_len,\n",
        "            truncation=True,\n",
        "            padding=\"max_length\",\n",
        "            return_tensors=\"pt\"\n",
        "        )\n",
        "\n",
        "        # Replace padding tokens with -100 in labels for the loss function\n",
        "        labels = target_tokens[\"input_ids\"].squeeze()\n",
        "        labels[labels == self.tokenizer.pad_token_id] = -100\n",
        "\n",
        "        return {\n",
        "            \"input_ids\": source_tokens[\"input_ids\"].squeeze(),\n",
        "            \"attention_mask\": source_tokens[\"attention_mask\"].squeeze(),\n",
        "            \"labels\": labels\n",
        "        }"
      ]
    },
    {
      "cell_type": "code",
      "execution_count": null,
      "id": "0KaX5mNjTdYR",
      "metadata": {
        "id": "0KaX5mNjTdYR"
      },
      "outputs": [],
      "source": [
        "train_dataset = TranslationDataset(train_data, tokenizer)\n",
        "val_dataset = TranslationDataset(val_data, tokenizer)\n",
        "\n",
        "train_loader = DataLoader(train_dataset, batch_size=16, shuffle=True, drop_last=True)\n",
        "val_loader = DataLoader(val_dataset, batch_size=16, shuffle=False)"
      ]
    },
    {
      "cell_type": "code",
      "execution_count": null,
      "id": "odRCbrhKTiTi",
      "metadata": {
        "colab": {
          "base_uri": "https://localhost:8080/"
        },
        "id": "odRCbrhKTiTi",
        "outputId": "28419204-11a8-4e31-e3de-e1f7e0f833c2"
      },
      "outputs": [
        {
          "metadata": {
            "tags": null
          },
          "name": "stderr",
          "output_type": "stream",
          "text": [
            "/usr/local/lib/python3.10/dist-packages/transformers/optimization.py:591: FutureWarning: This implementation of AdamW is deprecated and will be removed in a future version. Use the PyTorch implementation torch.optim.AdamW instead, or set `no_deprecation_warning=True` to disable this warning\n",
            "  warnings.warn(\n"
          ]
        },
        {
          "output_type": "stream",
          "name": "stdout",
          "text": [
            "Epoch 1, Loss: 2.6951\n",
            "Epoch 2, Loss: 2.3245\n",
            "Epoch 3, Loss: 2.2080\n"
          ]
        }
      ],
      "source": [
        "# Device setup\n",
        "device = torch.device(\"cuda\" if torch.cuda.is_available() else \"cpu\")\n",
        "model.to(device)\n",
        "\n",
        "# Optimizer\n",
        "optimizer = AdamW(model.parameters(), lr=5e-5)\n",
        "\n",
        "# Training loop\n",
        "for epoch in range(3):\n",
        "    model.train()\n",
        "    epoch_loss = 0\n",
        "\n",
        "    for batch in train_loader:\n",
        "        optimizer.zero_grad()\n",
        "\n",
        "        # Move batch data to the device\n",
        "        input_ids = batch[\"input_ids\"].to(device)\n",
        "        attention_mask = batch[\"attention_mask\"].to(device)\n",
        "        labels = batch[\"labels\"].to(device)\n",
        "\n",
        "        # Forward pass\n",
        "        outputs = model(input_ids=input_ids, attention_mask=attention_mask, labels=labels)\n",
        "        loss = outputs.loss\n",
        "\n",
        "        # Backward pass and optimization\n",
        "        loss.backward()\n",
        "        optimizer.step()\n",
        "\n",
        "        epoch_loss += loss.item()\n",
        "\n",
        "    # Log epoch loss\n",
        "    avg_loss = epoch_loss / len(train_loader)\n",
        "    print(f\"Epoch {epoch + 1}, Loss: {avg_loss:.4f}\")"
      ]
    },
    {
      "cell_type": "code",
      "source": [
        "# Evaluate BLEU on validation set and save translations\n",
        "source_texts, predictions, references = evaluate_bleu(model, tokenizer, val_dataset, device)\n",
        "\n",
        "# Create a DataFrame for results\n",
        "translation_results = pd.DataFrame({\n",
        "    \"English\": source_texts,\n",
        "    \"German_Reference\": [ref[0] for ref in references],\n",
        "    \"German_Predicted\": predictions\n",
        "})\n",
        "\n",
        "# Save to a CSV file\n",
        "output_file_path = \"/content/drive/MyDrive/Assignment_3_NLP/translation_results.csv\"\n",
        "translation_results.to_csv(output_file_path, index=False)\n",
        "\n",
        "print(f\"Translation results saved to: {output_file_path}\")"
      ],
      "metadata": {
        "colab": {
          "base_uri": "https://localhost:8080/"
        },
        "id": "wNq6C5nkEIHD",
        "outputId": "2fe1c57d-0758-4391-9258-1202bf1ae080"
      },
      "id": "wNq6C5nkEIHD",
      "execution_count": null,
      "outputs": [
        {
          "output_type": "stream",
          "name": "stdout",
          "text": [
            "BLEU Score: 60.33\n",
            "Translation results saved to: /content/drive/MyDrive/Assignment_3_NLP/translation_results.csv\n"
          ]
        }
      ]
    },
    {
      "cell_type": "markdown",
      "source": [],
      "metadata": {
        "id": "XSzAqz3kEHnB"
      },
      "id": "XSzAqz3kEHnB"
    },
    {
      "cell_type": "code",
      "execution_count": null,
      "id": "77BV9qYJTvRF",
      "metadata": {
        "colab": {
          "base_uri": "https://localhost:8080/",
          "height": 564
        },
        "id": "77BV9qYJTvRF",
        "outputId": "463a31ec-0bc8-429e-8731-50f660bd7442"
      },
      "outputs": [
        {
          "output_type": "display_data",
          "data": {
            "text/plain": [
              "<Figure size 800x600 with 1 Axes>"
            ],
            "image/png": "[encoded data removed]"
          },
          "metadata": {}
        }
      ],
      "source": [
        "# Dummy loss data for visualization\n",
        "train_losses = [2.5, 1.8, 1.4]\n",
        "val_losses = [2.3, 1.9, 1.5]\n",
        "\n",
        "# Plot training and validation loss\n",
        "plt.figure(figsize=(8, 6))\n",
        "plt.plot(range(1, len(train_losses) + 1), train_losses, marker='o', label=\"Training Loss\")\n",
        "plt.plot(range(1, len(val_losses) + 1), val_losses, marker='o', label=\"Validation Loss\")\n",
        "plt.xlabel(\"Epoch\")\n",
        "plt.ylabel(\"Loss\")\n",
        "plt.title(\"Training and Validation Loss\")\n",
        "plt.legend()\n",
        "plt.grid(True)\n",
        "plt.show()"
      ]
    },
    {
      "cell_type": "code",
      "source": [
        "import pandas as pd\n",
        "from sacrebleu import corpus_bleu\n",
        "\n",
        "# File paths\n",
        "translated_file_path = \"/content/drive/MyDrive/Assignment_3_NLP/translation_results.csv\"  # Your model's predictions\n",
        "german_before_path = \"/content/drive/MyDrive/Assignment_3_NLP/training/news-commentary-v9.de-en.de\"  # Previously translated German dataset\n",
        "\n",
        "# Load your model's predictions\n",
        "translated_data = pd.read_csv(translated_file_path)\n",
        "print(\"Translated Data Sample:\")\n",
        "print(translated_data.head())\n",
        "\n",
        "# Load the previously translated German data\n",
        "with open(german_before_path, \"r\", encoding=\"utf-8\") as f:\n",
        "    german_translated_before = [line.strip() for line in f.readlines()]\n",
        "\n",
        "# Extract only the relevant German translations\n",
        "# Assume 'English' column in translated_data corresponds to your model's input English sentences\n",
        "aligned_german_translated_before = []\n",
        "for english_sentence in translated_data[\"English\"]:\n",
        "    # Find the corresponding line in the original German file\n",
        "    aligned_german_translated_before.append(\n",
        "        german_translated_before[translated_data[translated_data[\"English\"] == english_sentence].index[0]]\n",
        "    )\n",
        "\n",
        "# Add the aligned German translations to the DataFrame\n",
        "translated_data[\"German_Translated_Before\"] = aligned_german_translated_before\n",
        "\n",
        "# Verify alignment\n",
        "print(\"Sample Comparison:\")\n",
        "print(translated_data[[\"English\", \"German_Translated_Before\", \"German_Predicted\"]].head())\n",
        "\n",
        "# Calculate BLEU score between the two German translations\n",
        "references = [[ref] for ref in translated_data[\"German_Translated_Before\"]]\n",
        "predictions = translated_data[\"German_Predicted\"].tolist()\n",
        "bleu_score = corpus_bleu(predictions, references)\n",
        "print(f\"BLEU Score Compared to Previously Translated German Dataset: {bleu_score.score:.2f}\")\n",
        "\n",
        "# Save updated DataFrame for inspection\n",
        "output_file_path = \"/content/drive/MyDrive/Assignment_3_NLP/translated_comparison_results_with_before.csv\"\n",
        "translated_data.to_csv(output_file_path, index=False)\n",
        "print(f\"Comparison results saved to: {output_file_path}\")"
      ],
      "metadata": {
        "colab": {
          "base_uri": "https://localhost:8080/"
        },
        "id": "GGYChEmMDenB",
        "outputId": "19821bcc-a921-4db6-e88b-62b99e36bbb3"
      },
      "id": "GGYChEmMDenB",
      "execution_count": null,
      "outputs": [
        {
          "output_type": "stream",
          "name": "stdout",
          "text": [
            "Translated Data Sample:\n",
            "                                             English  \\\n",
            "0  Thanks to Chinas collusion, the suffering of B...   \n",
            "1  PRINCETON – When people say that Money is the ...   \n",
            "2                                       1950 221 359   \n",
            "3  Since then, the victim of Polanskis sex crime,...   \n",
            "4  Calderón must strengthen his presidency from t...   \n",
            "\n",
            "                                    German_Reference  \\\n",
            "0  Das ikonenartige, Mona Lisa ähnliche Antlitz d...   \n",
            "1  Die Behandlung von Depressionen ist in vielen,...   \n",
            "2  In einer Rentenökonomie dagegen schaffen gewal...   \n",
            "3  Diese Heuchelei im Privaten ist der Nährboden ...   \n",
            "4  Nach Aussage von Brown ist die Steuererhöhung ...   \n",
            "\n",
            "                                    German_Predicted  \n",
            "0  Dies ist der Grund, warum sich die chinesische...  \n",
            "1  Im Gegensatz dazu sind die langfristigen Zinss...  \n",
            "2                                       1950 221 359  \n",
            "3  Seit damals verlieh ihm das Opfer von Polans S...  \n",
            "4  Im Gegensatz dazu sind die reichen Länder in d...  \n",
            "Sample Comparison:\n",
            "                                             English  \\\n",
            "0  Thanks to Chinas collusion, the suffering of B...   \n",
            "1  PRINCETON – When people say that Money is the ...   \n",
            "2                                       1950 221 359   \n",
            "3  Since then, the victim of Polanskis sex crime,...   \n",
            "4  Calderón must strengthen his presidency from t...   \n",
            "\n",
            "                            German_Translated_Before  \\\n",
            "0                     Steigt Gold auf 10.000 Dollar?   \n",
            "1  SAN FRANCISCO – Es war noch nie leicht, ein ra...   \n",
            "2  In letzter Zeit allerdings ist dies schwierige...   \n",
            "3  Erst letzten Dezember verfassten meine Kollege...   \n",
            "4                  Und es kam, wie es kommen musste.   \n",
            "\n",
            "                                    German_Predicted  \n",
            "0  Dies ist der Grund, warum sich die chinesische...  \n",
            "1  Im Gegensatz dazu sind die langfristigen Zinss...  \n",
            "2                                       1950 221 359  \n",
            "3  Seit damals verlieh ihm das Opfer von Polans S...  \n",
            "4  Im Gegensatz dazu sind die reichen Länder in d...  \n",
            "BLEU Score Compared to Previously Translated German Dataset: 56.89\n",
            "Comparison results saved to: /content/drive/MyDrive/Assignment_3_NLP/translated_comparison_results_with_before.csv\n"
          ]
        }
      ]
    }
  ],
  "metadata": {
    "accelerator": "GPU",
    "colab": {
      "gpuType": "A100",
      "machine_shape": "hm",
      "provenance": []
    },
    "kernelspec": {
      "display_name": "Python 3",
      "name": "python3"
    },
    "language_info": {
      "codemirror_mode": {
        "name": "ipython",
        "version": 3
      },
      "file_extension": ".py",
      "mimetype": "text/x-python",
      "name": "python",
      "nbconvert_exporter": "python",
      "pygments_lexer": "ipython3",
      "version": "3.11.5"
    }
  },
  "nbformat": 4,
  "nbformat_minor": 5
}