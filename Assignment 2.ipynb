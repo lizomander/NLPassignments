{
 "cells": [
  {
   "cell_type": "markdown",
   "id": "82e7877d",
   "metadata": {},
   "source": [
    "# Assignmnet 2 (100 points)"
   ]
  },
  {
   "cell_type": "markdown",
   "id": "09f79f88",
   "metadata": {},
   "source": [
    "### SMS Spam Detection *(100 points)*"
   ]
  },
  {
   "cell_type": "markdown",
   "id": "148e88d0",
   "metadata": {},
   "source": [
    "<p>You are hired as an AI expert in the development department of a telecommunications company. The first thing on your orientation plan is a small project that your boss has assigned you for the following given situation. Your supervisor has given away his private cell phone number on too many websites and is now complaining about daily spam SMS. Therefore, it is your job to write a spam detector in Python. </p>\n",
    "\n",
    "<p>In doing so, you need to use a Naive Bayes classifier that can handle both bag-of-words (BoW) and tf-idf features as input. For the evaluation of your spam detector, an SMS collection is available as a dataset - this has yet to be suitably split into train and test data. To keep the costs as low as possible and to avoid problems with copyrights, your boss insists on a new development with Python.</p>\n",
    "\n",
    "<p>Include a short description of the data preprocessing steps, method, experiment design, hyper-parameters, and evaluation metric. Also, document your findings, drawbacks, and potential improvements.</p>\n",
    "\n",
    "<p>Note: You need to implement the bag-of-words (BoW) and tf-idf feature extractor from scratch. You can use existing python libraries for other tasks.</p>"
   ]
  },
  {
   "cell_type": "markdown",
   "id": "fad12eba",
   "metadata": {},
   "source": [
    "**Dataset and Resources**\n",
    "\n",
    "* SMS Spam Collection Dataset: https://archive.ics.uci.edu/dataset/228/sms+spam+collection"
   ]
  },
  {
   "cell_type": "code",
   "execution_count": 1,
   "id": "a536ebe4",
   "metadata": {},
   "outputs": [],
   "source": [
    "import string\n",
    "import ssl\n",
    "from math import log\n",
    "import numpy as np\n",
    "import pandas as pd\n",
    "import matplotlib.pyplot as plt\n",
    "import seaborn as sns\n",
    "import nltk\n",
    "from nltk.corpus import stopwords\n",
    "from nltk.tokenize import word_tokenize\n",
    "from nltk.stem import PorterStemmer, WordNetLemmatizer\n",
    "from sklearn.base import BaseEstimator, ClassifierMixin\n",
    "from sklearn.model_selection import train_test_split, cross_val_score, GridSearchCV\n",
    "from sklearn.feature_extraction.text import TfidfVectorizer, CountVectorizer\n",
    "from sklearn.naive_bayes import MultinomialNB\n",
    "from sklearn.linear_model import LogisticRegression\n",
    "from sklearn.metrics import accuracy_score, precision_score, recall_score, f1_score, confusion_matrix"
   ]
  },
  {
   "cell_type": "markdown",
   "id": "cc85d594",
   "metadata": {},
   "source": [
    "#### Data Preprocessing\n",
    "\n",
    "First loading the SMS collection dataset, then start with preprocessing.\n",
    "+ removing punctuation\n",
    "+ converting text to lowercase\n",
    "+ tokenising the text into words\n",
    "+ removing stopping words, symbols\n",
    "+ stemming or lemmatising the words"
   ]
  },
  {
   "cell_type": "code",
   "execution_count": 2,
   "id": "ff05facb",
   "metadata": {},
   "outputs": [
    {
     "name": "stderr",
     "output_type": "stream",
     "text": [
      "[nltk_data] Downloading package punkt to\n",
      "[nltk_data]     /Users/user/nltk_data...\n",
      "[nltk_data]   Package punkt is already up-to-date!\n",
      "[nltk_data] Downloading package stopwords to\n",
      "[nltk_data]     /Users/user/nltk_data...\n",
      "[nltk_data]   Package stopwords is already up-to-date!\n",
      "[nltk_data] Downloading package wordnet to\n",
      "[nltk_data]     /Users/user/nltk_data...\n",
      "[nltk_data]   Package wordnet is already up-to-date!\n"
     ]
    },
    {
     "name": "stdout",
     "output_type": "stream",
     "text": [
      "  label                                               text  \\\n",
      "0   ham  Go until jurong point, crazy.. Available only ...   \n",
      "1   ham                      Ok lar... Joking wif u oni...   \n",
      "2  spam  Free entry in 2 a wkly comp to win FA Cup fina...   \n",
      "3   ham  U dun say so early hor... U c already then say...   \n",
      "4   ham  Nah I don't think he goes to usf, he lives aro...   \n",
      "\n",
      "                                      processed_text  \n",
      "0  [go, jurong, point, crazi, avail, bugi, n, gre...  \n",
      "1                       [ok, lar, joke, wif, u, oni]  \n",
      "2  [free, entri, 2, wkli, comp, win, fa, cup, fin...  \n",
      "3      [u, dun, say, earli, hor, u, c, alreadi, say]  \n",
      "4  [nah, dont, think, go, usf, life, around, though]  \n"
     ]
    }
   ],
   "source": [
    "ssl._create_default_https_context = ssl._create_unverified_context\n",
    "nltk.download('punkt')\n",
    "nltk.download('stopwords')\n",
    "nltk.download('wordnet')\n",
    "\n",
    "# the dataset\n",
    "sms_data = pd.read_csv(\"SMSSpamCollection\", sep='\\t', header=None, names=['label', 'text'])\n",
    "\n",
    "# preprocessing\n",
    "def preprocess_text(text):\n",
    "    # punctuation (check)\n",
    "    text = text.translate(str.maketrans('', '', string.punctuation))\n",
    "    # lowercase (check)\n",
    "    text = text.lower()\n",
    "    # tokenize (check)\n",
    "    tokens = word_tokenize(text)\n",
    "    # stopwords and non-alphanumeric tokens (check)\n",
    "    tokens = [word for word in tokens if word.isalnum() and word not in stop_words]\n",
    "    # lemmatisation (check)\n",
    "    lemmatizer = WordNetLemmatizer()\n",
    "    tokens = [lemmatizer.lemmatize(word) for word in tokens]\n",
    "    # stemming (check)\n",
    "    stemmed_tokens = [stemmer.stem(word) for word in tokens]\n",
    "    return stemmed_tokens\n",
    "\n",
    "# initialising stopwords and stemmer\n",
    "stop_words = set(stopwords.words('english'))\n",
    "stemmer = PorterStemmer()\n",
    "\n",
    "# preprocessing application\n",
    "sms_data['processed_text'] = sms_data['text'].apply(preprocess_text)\n",
    "print(sms_data.head())"
   ]
  },
  {
   "cell_type": "markdown",
   "id": "b9681268",
   "metadata": {},
   "source": [
    "#### Feature Extraction:\n",
    "1. implementing BoW feature extraction:\n",
    "- creating a vocabulary from the training data.\n",
    "- representing each sms as a vector of word counts.\n",
    "\n",
    "I am adding the function part in comments since putting it as a class makes it more usable in this case, and also in the TF-IDF case. I think, that's what I found online."
   ]
  },
  {
   "cell_type": "code",
   "execution_count": 3,
   "id": "cd33de94",
   "metadata": {},
   "outputs": [],
   "source": [
    "class BoWVectorizer:\n",
    "    def __init__(self):\n",
    "        self.vocabulary = []\n",
    "\n",
    "    def fit(self, corpus):\n",
    "        unique_words = set(word for sms in corpus for word in sms.split())\n",
    "        self.vocabulary = sorted(unique_words)\n",
    "        return self\n",
    "\n",
    "    def transform(self, corpus):\n",
    "        vocab_index = {word: idx for idx, word in enumerate(self.vocabulary)}\n",
    "        vectors = []\n",
    "        \n",
    "        for sms in corpus:\n",
    "            vector = np.zeros(len(self.vocabulary), dtype=int)\n",
    "            for word in sms.split():\n",
    "                if word in vocab_index:\n",
    "                    vector[vocab_index[word]] += 1\n",
    "            vectors.append(vector)\n",
    "        \n",
    "        return np.array(vectors)\n",
    "\n",
    "    def fit_transform(self, corpus):\n",
    "        self.fit(corpus)\n",
    "        return self.transform(corpus)\n",
    "    \n",
    "# def bag_of_words(documents):\n",
    "#     vocab = {}\n",
    "#     for doc in documents:\n",
    "#         for word in doc.split():\n",
    "#             if word not in vocab:\n",
    "#                 vocab[word] = len(vocab)\n",
    "    \n",
    "#     bow_matrix = []\n",
    "#     for doc in documents:\n",
    "#         row = [0] * len(vocab)\n",
    "#         for word in doc.split():\n",
    "#             if word in vocab:\n",
    "#                 row[vocab[word]] += 1\n",
    "#         bow_matrix.append(row)\n",
    "#     return bow_matrix, vocab"
   ]
  },
  {
   "cell_type": "markdown",
   "id": "ec73b382",
   "metadata": {},
   "source": [
    "2. implementing tf-idf feature extraction:\n",
    "   - calculating term frequency (TF) for each word in each sms\n",
    "   - also the inverse document frequency (IDF) for each word\n",
    "   - then computing tf-idf scores for each word in each sms"
   ]
  },
  {
   "cell_type": "code",
   "execution_count": 4,
   "id": "a23871d8",
   "metadata": {},
   "outputs": [],
   "source": [
    "class TfidfVectorizer:\n",
    "    def __init__(self, smooth=1):\n",
    "        self.vocabulary = []\n",
    "        self.idf = {}\n",
    "        self.smooth = smooth\n",
    "\n",
    "    def fit(self, corpus):\n",
    "        doc_count = len(corpus)\n",
    "        unique_words = set(word for sms in corpus for word in sms.split())\n",
    "        self.vocabulary = sorted(unique_words)\n",
    "        \n",
    "        # Calculate IDF\n",
    "        self.idf = {\n",
    "            word: log((doc_count + self.smooth) / (sum(1 for sms in corpus if word in sms.split()) + self.smooth)) \n",
    "            for word in self.vocabulary\n",
    "        }\n",
    "        print(f\"Vocabulary and IDF values calculated.\")\n",
    "        return self\n",
    "\n",
    "    def transform(self, corpus):\n",
    "        vectors = []\n",
    "        vocab_index = {word: idx for idx, word in enumerate(self.vocabulary)}\n",
    "\n",
    "        for sms in corpus:\n",
    "            vector = np.zeros(len(self.vocabulary))\n",
    "            word_counts = {}\n",
    "            \n",
    "            for word in sms.split():\n",
    "                if word in vocab_index:\n",
    "                    word_counts[word] = word_counts.get(word, 0) + 1\n",
    "\n",
    "            total_words = sum(word_counts.values())\n",
    "            \n",
    "            for word, count in word_counts.items():\n",
    "                tf = count / total_words\n",
    "                vector[vocab_index[word]] = tf * self.idf[word]\n",
    "\n",
    "            vectors.append(vector)\n",
    "\n",
    "        return np.array(vectors)\n",
    "\n",
    "    def fit_transform(self, corpus):\n",
    "        self.fit(corpus)\n",
    "        return self.transform(corpus)\n",
    "    "
   ]
  },
  {
   "cell_type": "markdown",
   "id": "fad042bf",
   "metadata": {},
   "source": [
    "#### Naive Bayes Classifier:\n",
    "1. implement a naive bayes classifier:\n",
    "   - training classifier by using the training data\n",
    "   - using laplace smoothing to handle zero probabilities\n",
    "   - calculating conditional probabilities for each class (spam or ham) and each word together\n",
    "   - apply logarithmic probabilities to avoid underflow\n",
    "2. prediction making on the test data"
   ]
  },
  {
   "cell_type": "code",
   "execution_count": 5,
   "id": "d2a820ef",
   "metadata": {},
   "outputs": [],
   "source": [
    "class NaiveBayesClassifier(BaseEstimator, ClassifierMixin):\n",
    "    def __init__(self, alpha=1):\n",
    "        self.alpha = alpha\n",
    "        self.prior = {}\n",
    "        self.cond_prob = {}\n",
    "\n",
    "    def fit(self, X_train, y_train):\n",
    "        unique_classes = np.unique(y_train)\n",
    "        \n",
    "        # Calculate prior probabilities (log priors)\n",
    "        self.prior = {label: np.log((np.sum(y_train == label) + self.alpha) / \n",
    "                                    (len(y_train) + len(unique_classes) * self.alpha)) \n",
    "                      for label in unique_classes}\n",
    "        \n",
    "        # Calculate conditional probabilities\n",
    "        self.cond_prob = {label: np.zeros(X_train.shape[1]) for label in unique_classes}\n",
    "        \n",
    "        for label in unique_classes:\n",
    "            label_indices = np.where(y_train == label)[0]\n",
    "            X_label = X_train[label_indices]\n",
    "            total_words = X_label.sum()\n",
    "            \n",
    "            word_counts = np.array(X_label.sum(axis=0)).flatten()  # Word counts across all features\n",
    "            \n",
    "            # Log probability smoothing\n",
    "            self.cond_prob[label] = np.log((word_counts + self.alpha) / \n",
    "                                           (total_words + X_train.shape[1] * self.alpha))\n",
    "        \n",
    "        return self\n",
    "\n",
    "    def predict(self, X):\n",
    "        # Calculate log probabilities for each class\n",
    "        log_probs = []\n",
    "        for label in self.prior:\n",
    "            # Sum the log probabilities\n",
    "            log_prob = self.prior[label] + X @ self.cond_prob[label].T\n",
    "            log_probs.append(log_prob)\n",
    "        \n",
    "        # Pick the class with the highest probability\n",
    "        return np.array(list(self.prior.keys()))[np.argmax(log_probs, axis=0)]\n",
    "\n",
    "# def tf_idf(documents):\n",
    "#     vocab = {}\n",
    "#     doc_count = len(documents)\n",
    "    \n",
    "#     for doc in documents:\n",
    "#         for word in doc.split():\n",
    "#             if word not in vocab:\n",
    "#                 vocab[word] = len(vocab)\n",
    "    \n",
    "#     tf_matrix = []\n",
    "#     for doc in documents:\n",
    "#         term_freq = {word: 0 for word in vocab}\n",
    "#         for word in doc.split():\n",
    "#             term_freq[word] += 1\n",
    "#         total_terms = len(doc.split())\n",
    "#         tf_matrix.append([term_freq[word] / total_terms for word in vocab])\n",
    "    \n",
    "#     idf = {word: log((1 + doc_count) / (1 + sum(1 for doc in documents if word in doc.split()))) + 1 \n",
    "#            for word in vocab}\n",
    "    \n",
    "#     tf_idf_matrix = []\n",
    "#     for tf_row in tf_matrix:\n",
    "#         tf_idf_row = [tf_val * idf[word] for word, tf_val in zip(vocab, tf_row)]\n",
    "#         tf_idf_matrix.append(tf_idf_row)\n",
    "    \n",
    "#     return tf_idf_matrix, vocab"
   ]
  },
  {
   "cell_type": "markdown",
   "id": "518e52e2",
   "metadata": {},
   "source": [
    "#### Experiment Design:\n",
    "1. spliting the dataset into training and testing sets\n",
    "2. training the naive bayes classifier on the training set\n",
    "3. evaluating the classifier on the testing set using appropriate evaluation metrics -> accuracy, precision, recall, F1-score"
   ]
  },
  {
   "cell_type": "code",
   "execution_count": null,
   "id": "433dd0f5",
   "metadata": {},
   "outputs": [
    {
     "name": "stdout",
     "output_type": "stream",
     "text": [
      "Vocabulary and IDF values calculated.\n",
      "Accuracy: 0.9650224215246637\n",
      "Precision: 0.9824561403508771\n",
      "Recall: 0.7516778523489933\n",
      "F1-score: 0.8517110266159695\n"
     ]
    }
   ],
   "source": [
    "X = sms_data['text']\n",
    "y = sms_data['label']\n",
    "X_train, X_test, y_train, y_test = train_test_split(X, y, test_size=0.2, random_state=42)\n",
    "\n",
    "vectorizer = TfidfVectorizer()\n",
    "vectorizer.fit(X_train)\n",
    "X_train_transformed = vectorizer.transform(X_train)\n",
    "X_test_transformed = vectorizer.transform(X_test)\n",
    "\n",
    "classifier = MultinomialNB()\n",
    "classifier.fit(X_train_transformed, y_train)\n",
    "predictions = classifier.predict(X_test_transformed)\n",
    "accuracy = accuracy_score(y_test, predictions)\n",
    "precision = precision_score(y_test, predictions, pos_label='spam')\n",
    "recall = recall_score(y_test, predictions, pos_label='spam')\n",
    "f1 = f1_score(y_test, predictions, pos_label='spam')\n",
    "\n",
    "print(\"Accuracy:\", accuracy)\n",
    "print(\"Precision:\", precision)\n",
    "print(\"Recall:\", recall)\n",
    "print(\"F1-score:\", f1)"
   ]
  },
  {
   "cell_type": "markdown",
   "id": "9cff2aec",
   "metadata": {},
   "source": [
    "### Hyperparameters:\n",
    "- laplace smoothing parameter - alpha - for naive bayes."
   ]
  },
  {
   "cell_type": "code",
   "execution_count": 7,
   "id": "c1d35bc7",
   "metadata": {},
   "outputs": [
    {
     "name": "stdout",
     "output_type": "stream",
     "text": [
      "Best Alpha: 0.5\n",
      "Accuracy: 0.9748878923766816\n",
      "Precision: 0.9763779527559056\n",
      "Recall: 0.8322147651006712\n",
      "F1-score: 0.8985507246376812\n"
     ]
    }
   ],
   "source": [
    "# alpha values (laplace smoothing)\n",
    "param_grid = {'alpha': [0.1, 0.5, 1.0, 2.0]}\n",
    "\n",
    "# naive bayes classifier\n",
    "classifier = MultinomialNB()\n",
    "\n",
    "# grid search - 5 fold cross validation\n",
    "grid_search = GridSearchCV(classifier, param_grid, cv=5, scoring='accuracy')\n",
    "grid_search.fit(X_train_transformed, y_train)\n",
    "\n",
    "# the best alpha - the corresponding classifier\n",
    "best_alpha = grid_search.best_params_['alpha']\n",
    "best_classifier = grid_search.best_estimator_\n",
    "\n",
    "# the best classifier\n",
    "best_classifier.fit(X_train_transformed, y_train)\n",
    "\n",
    "# prediction\n",
    "predictions = best_classifier.predict(X_test_transformed)\n",
    "\n",
    "# evaluation\n",
    "accuracy = accuracy_score(y_test, predictions)\n",
    "precision = precision_score(y_test, predictions, pos_label='spam')\n",
    "recall = recall_score(y_test, predictions, pos_label='spam')\n",
    "f1 = f1_score(y_test, predictions, pos_label='spam')\n",
    "\n",
    "print(\"Best Alpha:\", best_alpha)\n",
    "print(\"Accuracy:\", accuracy)\n",
    "print(\"Precision:\", precision)\n",
    "print(\"Recall:\", recall)\n",
    "print(\"F1-score:\", f1)"
   ]
  },
  {
   "cell_type": "markdown",
   "id": "35c733af",
   "metadata": {},
   "source": [
    "### Evaluation Metric:\n",
    "- checking the differenece between BoW and tf-idf\n",
    "- accuracy: the proportion of correctly classified sms messages\n",
    "- precision: the proportion of correctly classified spam messages between all messages classified as spam\n",
    "- recall: the proportion of correctly classified spam messages from all actual spam messages\n",
    "- f1-score: the harmonic mean of precision and recall, providing a balance between the two metrics"
   ]
  },
  {
   "cell_type": "code",
   "execution_count": 8,
   "id": "b5583a2e",
   "metadata": {},
   "outputs": [
    {
     "name": "stdout",
     "output_type": "stream",
     "text": [
      "Vocabulary and IDF values calculated.\n",
      "  Vectorizer  Accuracy  Precision (Spam)  Recall (Spam)  F1-Score (Spam)\n",
      "0        BoW  0.984753          0.992537       0.892617         0.939929\n",
      "1     TF-IDF  0.965022          0.982456       0.751678         0.851711\n"
     ]
    },
    {
     "data": {
      "image/png": "[encoded data removed]",
      "text/plain": [
       "<Figure size 800x600 with 1 Axes>"
      ]
     },
     "metadata": {},
     "output_type": "display_data"
    }
   ],
   "source": [
    "def evaluate_model(model, X_train, X_test, y_train, y_test, vectorizer_name):\n",
    "    model.fit(X_train, y_train)\n",
    "    predictions = model.predict(X_test)\n",
    "    \n",
    "    accuracy = accuracy_score(y_test, predictions)\n",
    "    precision = precision_score(y_test, predictions, pos_label='spam')\n",
    "    recall = recall_score(y_test, predictions, pos_label='spam')\n",
    "    f1 = f1_score(y_test, predictions, pos_label='spam')\n",
    "    \n",
    "    return {\n",
    "        'Vectorizer': vectorizer_name,\n",
    "        'Accuracy': accuracy,\n",
    "        'Precision (Spam)': precision,\n",
    "        'Recall (Spam)': recall,\n",
    "        'F1-Score (Spam)': f1\n",
    "    }\n",
    "\n",
    "metrics_list = []\n",
    "\n",
    "bow_vectorizer = BoWVectorizer()\n",
    "X_train_bow = bow_vectorizer.fit_transform(X_train)\n",
    "X_test_bow = bow_vectorizer.transform(X_test)\n",
    "\n",
    "metrics_list.append(evaluate_model(MultinomialNB(), X_train_bow, X_test_bow, y_train, y_test, \"BoW\"))\n",
    "\n",
    "tfidf_vectorizer = TfidfVectorizer()\n",
    "X_train_tfidf = tfidf_vectorizer.fit_transform(X_train)\n",
    "X_test_tfidf = tfidf_vectorizer.transform(X_test)\n",
    "\n",
    "metrics_list.append(evaluate_model(MultinomialNB(), X_train_tfidf, X_test_tfidf, y_train, y_test, \"TF-IDF\"))\n",
    "\n",
    "metrics_df = pd.DataFrame(metrics_list)\n",
    "print(metrics_df)\n",
    "\n",
    "# class distribution\n",
    "plt.figure(figsize=(8, 6))\n",
    "sns.countplot(x='label', data=sms_data)\n",
    "plt.title('Distribution of Classes')\n",
    "plt.xlabel('Class')\n",
    "plt.ylabel('Count')\n",
    "plt.show()"
   ]
  },
  {
   "cell_type": "markdown",
   "id": "f551582b",
   "metadata": {},
   "source": [
    "# An Optimised Version from ChatGPT\n",
    "it is a lot different from what i got :/"
   ]
  },
  {
   "cell_type": "code",
   "execution_count": 9,
   "id": "04435a36",
   "metadata": {},
   "outputs": [
    {
     "name": "stderr",
     "output_type": "stream",
     "text": [
      "[nltk_data] Downloading package punkt to\n",
      "[nltk_data]     /Users/user/nltk_data...\n",
      "[nltk_data]   Package punkt is already up-to-date!\n",
      "[nltk_data] Downloading package stopwords to\n",
      "[nltk_data]     /Users/user/nltk_data...\n",
      "[nltk_data]   Package stopwords is already up-to-date!\n",
      "[nltk_data] Downloading package wordnet to\n",
      "[nltk_data]     /Users/user/nltk_data...\n",
      "[nltk_data]   Package wordnet is already up-to-date!\n"
     ]
    },
    {
     "name": "stdout",
     "output_type": "stream",
     "text": [
      "Best Parameters: {'classifier__alpha': 0.1}\n",
      "Accuracy: 0.9821\n",
      "Precision: 0.9448\n",
      "Recall: 0.9195\n",
      "F1-score: 0.9320\n"
     ]
    },
    {
     "data": {
      "image/png": "[encoded data removed]",
      "text/plain": [
       "<Figure size 640x480 with 2 Axes>"
      ]
     },
     "metadata": {},
     "output_type": "display_data"
    }
   ],
   "source": [
    "# Importing necessary libraries\n",
    "import pandas as pd\n",
    "import string\n",
    "import nltk\n",
    "from nltk.corpus import stopwords\n",
    "from nltk.tokenize import word_tokenize\n",
    "from nltk.stem import PorterStemmer, WordNetLemmatizer\n",
    "from sklearn.model_selection import train_test_split, GridSearchCV\n",
    "from sklearn.metrics import accuracy_score, precision_score, recall_score, f1_score, confusion_matrix, ConfusionMatrixDisplay\n",
    "from sklearn.pipeline import Pipeline\n",
    "from sklearn.base import BaseEstimator, TransformerMixin\n",
    "from sklearn.naive_bayes import MultinomialNB\n",
    "import matplotlib.pyplot as plt\n",
    "import numpy as np\n",
    "\n",
    "# Downloading NLTK resources\n",
    "nltk.download('punkt')\n",
    "nltk.download('stopwords')\n",
    "nltk.download('wordnet')\n",
    "\n",
    "# Loading the dataset\n",
    "sms_data = pd.read_csv(\"SMSSpamCollection\", sep='\\t', header=None, names=['label', 'text'])\n",
    "\n",
    "# Custom Preprocessor Class\n",
    "class TextPreprocessor(BaseEstimator, TransformerMixin):\n",
    "    def __init__(self):\n",
    "        self.stop_words = set(stopwords.words('english'))\n",
    "        self.stemmer = PorterStemmer()\n",
    "        self.lemmatizer = WordNetLemmatizer()\n",
    "\n",
    "    def preprocess(self, text):\n",
    "        text = text.translate(str.maketrans('', '', string.punctuation)).lower()\n",
    "        tokens = word_tokenize(text)\n",
    "        tokens = [self.lemmatizer.lemmatize(word) for word in tokens if word.isalnum() and word not in self.stop_words]\n",
    "        return ' '.join([self.stemmer.stem(word) for word in tokens])\n",
    "\n",
    "    def fit(self, X, y=None):\n",
    "        return self\n",
    "\n",
    "    def transform(self, X):\n",
    "        return X.apply(self.preprocess)\n",
    "\n",
    "# Custom BoW Vectorizer (from scratch)\n",
    "class BoWVectorizer(BaseEstimator, TransformerMixin):\n",
    "    def __init__(self):\n",
    "        self.vocabulary = {}\n",
    "\n",
    "    def fit(self, X, y=None):\n",
    "        unique_words = set(word for sms in X for word in sms.split())\n",
    "        self.vocabulary = {word: i for i, word in enumerate(sorted(unique_words))}\n",
    "        return self\n",
    "\n",
    "    def transform(self, X):\n",
    "        vectors = []\n",
    "        for sms in X:\n",
    "            vector = np.zeros(len(self.vocabulary))\n",
    "            for word in sms.split():\n",
    "                if word in self.vocabulary:\n",
    "                    vector[self.vocabulary[word]] += 1\n",
    "            vectors.append(vector)\n",
    "        return np.array(vectors)\n",
    "\n",
    "# Custom TF-IDF Vectorizer (from scratch)\n",
    "class TfidfVectorizer(BaseEstimator, TransformerMixin):\n",
    "    def __init__(self, smooth=1):\n",
    "        self.smooth = smooth\n",
    "        self.vocabulary = {}\n",
    "        self.idf_values = {}\n",
    "\n",
    "    def fit(self, X, y=None):\n",
    "        doc_count = len(X)\n",
    "        unique_words = set(word for sms in X for word in sms.split())\n",
    "        self.vocabulary = {word: i for i, word in enumerate(sorted(unique_words))}\n",
    "        self.idf_values = {\n",
    "            word: np.log((doc_count + self.smooth) / (1 + sum(1 for sms in X if word in sms.split())))\n",
    "            for word in self.vocabulary\n",
    "        }\n",
    "        return self\n",
    "\n",
    "    def transform(self, X):\n",
    "        vectors = []\n",
    "        for sms in X:\n",
    "            vector = np.zeros(len(self.vocabulary))\n",
    "            word_counts = {}\n",
    "            for word in sms.split():\n",
    "                if word in self.vocabulary:\n",
    "                    word_counts[word] = word_counts.get(word, 0) + 1\n",
    "            total_words = sum(word_counts.values())\n",
    "            for word, count in word_counts.items():\n",
    "                tf = count / total_words\n",
    "                vector[self.vocabulary[word]] = tf * self.idf_values[word]\n",
    "            vectors.append(vector)\n",
    "        return np.array(vectors)\n",
    "\n",
    "# Splitting data\n",
    "X = sms_data['text']\n",
    "y = sms_data['label']\n",
    "X_train, X_test, y_train, y_test = train_test_split(X, y, test_size=0.2, random_state=42)\n",
    "\n",
    "# Pipeline for preprocessing, vectorization, and classification\n",
    "pipeline = Pipeline([\n",
    "    ('preprocessor', TextPreprocessor()),\n",
    "    ('vectorizer', TfidfVectorizer()),  # Change to BoWVectorizer() for BoW\n",
    "    ('classifier', MultinomialNB())\n",
    "])\n",
    "\n",
    "# Hyperparameter Tuning\n",
    "param_grid = {'classifier__alpha': [0.1, 0.5, 1.0, 2.0]}\n",
    "grid_search = GridSearchCV(pipeline, param_grid, cv=5, scoring='accuracy')\n",
    "grid_search.fit(X_train, y_train)\n",
    "\n",
    "# Evaluation\n",
    "best_pipeline = grid_search.best_estimator_\n",
    "predictions = best_pipeline.predict(X_test)\n",
    "\n",
    "accuracy = accuracy_score(y_test, predictions)\n",
    "precision = precision_score(y_test, predictions, pos_label='spam')\n",
    "recall = recall_score(y_test, predictions, pos_label='spam')\n",
    "f1 = f1_score(y_test, predictions, pos_label='spam')\n",
    "\n",
    "print(f\"Best Parameters: {grid_search.best_params_}\")\n",
    "print(f\"Accuracy: {accuracy:.4f}\")\n",
    "print(f\"Precision: {precision:.4f}\")\n",
    "print(f\"Recall: {recall:.4f}\")\n",
    "print(f\"F1-score: {f1:.4f}\")\n",
    "\n",
    "# Plot the confusion matrix with numerical values\n",
    "conf_matrix = confusion_matrix(y_test, predictions)\n",
    "disp = ConfusionMatrixDisplay(confusion_matrix=conf_matrix, display_labels=['Ham', 'Spam'])\n",
    "\n",
    "# Plot with color intensity and values\n",
    "disp.plot(cmap='coolwarm', values_format='d')\n",
    "plt.title('Confusion Matrix with Values')\n",
    "plt.show()"
   ]
  },
  {
   "cell_type": "markdown",
   "id": "55cbc82a",
   "metadata": {},
   "source": [
    "### Additional Experiments *(5 additional points - <span style=\"color: red;\">Optional</span>)*"
   ]
  },
  {
   "cell_type": "markdown",
   "id": "f30bb02a",
   "metadata": {},
   "source": [
    "#### BoW with Bigrams"
   ]
  },
  {
   "cell_type": "code",
   "execution_count": 10,
   "id": "9b5820d4",
   "metadata": {},
   "outputs": [
    {
     "name": "stdout",
     "output_type": "stream",
     "text": [
      "BoW (with bigrams) Accuracy: 0.989237668161435\n",
      "BoW (with bigrams) F1-Score: 0.958041958041958\n"
     ]
    }
   ],
   "source": [
    "bow_vectorizer = CountVectorizer(ngram_range=(1, 2)) \n",
    "X_train_bow = bow_vectorizer.fit_transform(X_train)\n",
    "X_test_bow = bow_vectorizer.transform(X_test)\n",
    "\n",
    "classifier.fit(X_train_bow, y_train)\n",
    "predictions_bow = classifier.predict(X_test_bow)\n",
    "\n",
    "accuracy_bow = accuracy_score(y_test, predictions_bow)\n",
    "f1_bow = f1_score(y_test, predictions_bow, pos_label='spam')\n",
    "\n",
    "print(f\"BoW (with bigrams) Accuracy: {accuracy_bow}\")\n",
    "print(f\"BoW (with bigrams) F1-Score: {f1_bow}\")"
   ]
  },
  {
   "cell_type": "markdown",
   "id": "00b0df94",
   "metadata": {},
   "source": [
    "#### Finding Top 500 Features"
   ]
  },
  {
   "cell_type": "code",
   "execution_count": 11,
   "id": "d8c12575",
   "metadata": {},
   "outputs": [
    {
     "name": "stdout",
     "output_type": "stream",
     "text": [
      "BoW (Top 500 Features) Accuracy: 0.979372197309417\n",
      "BoW (Top 500 Features) F1-Score: 0.9235880398671097\n"
     ]
    }
   ],
   "source": [
    "bow_vectorizer = CountVectorizer(max_features=500)\n",
    "X_train_bow = bow_vectorizer.fit_transform(X_train)\n",
    "X_test_bow = bow_vectorizer.transform(X_test)\n",
    "\n",
    "classifier.fit(X_train_bow, y_train)\n",
    "predictions_bow = classifier.predict(X_test_bow)\n",
    "\n",
    "accuracy_bow = accuracy_score(y_test, predictions_bow)\n",
    "f1_bow = f1_score(y_test, predictions_bow, pos_label='spam')\n",
    "\n",
    "print(f\"BoW (Top 500 Features) Accuracy: {accuracy_bow}\")\n",
    "print(f\"BoW (Top 500 Features) F1-Score: {f1_bow}\")"
   ]
  },
  {
   "cell_type": "markdown",
   "id": "8def5916",
   "metadata": {},
   "source": [
    "#### Top Indicative Words for Spam"
   ]
  },
  {
   "cell_type": "code",
   "execution_count": 12,
   "id": "17076591",
   "metadata": {},
   "outputs": [
    {
     "name": "stdout",
     "output_type": "stream",
     "text": [
      "Top indicative words for spam:\n",
      "txt: 0.0136\n",
      "or: 0.0175\n",
      "the: 0.0175\n",
      "for: 0.0178\n",
      "now: 0.0182\n",
      "free: 0.0206\n",
      "your: 0.0233\n",
      "you: 0.0250\n",
      "call: 0.0308\n",
      "to: 0.0604\n"
     ]
    }
   ],
   "source": [
    "feature_names = bow_vectorizer.get_feature_names_out()\n",
    "spam_feature_log_probs = classifier.feature_log_prob_[1] \n",
    "top_features = np.argsort(spam_feature_log_probs)[-10:] \n",
    "\n",
    "print(\"Top indicative words for spam:\")\n",
    "for i in top_features:\n",
    "    print(f\"{feature_names[i]}: {np.exp(spam_feature_log_probs[i]):.4f}\") "
   ]
  }
 ],
 "metadata": {
  "kernelspec": {
   "display_name": "Python 3",
   "language": "python",
   "name": "python3"
  },
  "language_info": {
   "codemirror_mode": {
    "name": "ipython",
    "version": 3
   },
   "file_extension": ".py",
   "mimetype": "text/x-python",
   "name": "python",
   "nbconvert_exporter": "python",
   "pygments_lexer": "ipython3",
   "version": "3.11.3"
  }
 },
 "nbformat": 4,
 "nbformat_minor": 5
}
